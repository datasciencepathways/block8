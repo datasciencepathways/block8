{
 "cells": [
  {
   "cell_type": "markdown",
   "metadata": {},
   "source": [
    "# Model fitting\n",
    "\n",
    "A model is an informative representation of an object, person or system. It is a way of describing the object or system in terms of its properties. The problem of model fitting is fundamental in computer vision and machine learning. It can be broken down into two parts:\n",
    "- Fitting: find the parameters of a model that best fit the data\n",
    "- Alignment: find the parameters of the transformation that best align matched points\n",
    "\n",
    "A model can be as simple as a line or as complex as a 3D object. In this module we will see examples of fitting models to data, starting from a simple model type, known as edge image template and then moving to more complex models.\n",
    "\n",
    "## Template matching\n",
    "\n",
    "What is a Template? A template is an example of how an object looks.\n",
    "\n",
    "Template matching is a technique in digital image processing for finding small parts of an image which match a template image or a patch. The goal of template matching is to find the patch/template in an image. To find it, the user has to give two input images: Source Image (S) – The image to find the template in, and a Template Image (T) – The image that is to be found in the source image. It is basically a method for searching and finding the location of a template image in a larger image.\n",
    "    \n",
    "How does Template Matching Work?\n",
    "- The template image simply slides over the input image (as in 2D convolution)\n",
    "- The template and the patch of input image under the template image are compared.\n",
    "- The result obtained is compared with the threshold.\n",
    "- If the result is greater than the threshold, the portion will be marked as detected.\n",
    "- In the function `cv2.matchTemplate(img_gray,template,cv2.TM_CCOEFF_NORMED)` the first parameter is the mainimage, the second parameter is the template to be matched and the third parameter is the method used for matching."
   ]
  },
  {
   "cell_type": "markdown",
   "metadata": {},
   "source": []
  }
 ],
 "metadata": {
  "kernelspec": {
   "display_name": "Python 3.10.4 64-bit",
   "language": "python",
   "name": "python3"
  },
  "language_info": {
   "name": "python",
   "version": "3.10.4"
  },
  "orig_nbformat": 4,
  "vscode": {
   "interpreter": {
    "hash": "4f946df053fbf2b937619d3c5458e7af74262f9a954d8797ba0b27400bcafe06"
   }
  }
 },
 "nbformat": 4,
 "nbformat_minor": 2
}
